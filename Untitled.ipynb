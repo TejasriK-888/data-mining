{
 "cells": [
  {
   "cell_type": "code",
   "execution_count": 3,
   "id": "38553f66",
   "metadata": {},
   "outputs": [],
   "source": [
    "import pandas as pd\n",
    "from sklearn.model_selection import train_test_split\n",
    "import matplotlib.pyplot as plt"
   ]
  },
  {
   "cell_type": "code",
   "execution_count": 4,
   "id": "7188ecc1",
   "metadata": {},
   "outputs": [],
   "source": [
    "df=pd.read_csv(r\"C:\\Users\\TEMP.IT-CIRRUS.000\\Desktop\\data.csv\",sep=\";\")"
   ]
  },
  {
   "cell_type": "code",
   "execution_count": 14,
   "id": "6f9dd14c",
   "metadata": {},
   "outputs": [
    {
     "name": "stdout",
     "output_type": "stream",
     "text": [
      "      Marital status  Application mode  Application order  Course  \\\n",
      "0                  1                17                  5     171   \n",
      "1                  1                15                  1    9254   \n",
      "2                  1                 1                  5    9070   \n",
      "3                  1                17                  2    9773   \n",
      "4                  2                39                  1    8014   \n",
      "...              ...               ...                ...     ...   \n",
      "4419               1                 1                  6    9773   \n",
      "4420               1                 1                  2    9773   \n",
      "4421               1                 1                  1    9500   \n",
      "4422               1                 1                  1    9147   \n",
      "4423               1                10                  1    9773   \n",
      "\n",
      "      Daytime/evening attendance\\t  Previous qualification  \\\n",
      "0                                1                       1   \n",
      "1                                1                       1   \n",
      "2                                1                       1   \n",
      "3                                1                       1   \n",
      "4                                0                       1   \n",
      "...                            ...                     ...   \n",
      "4419                             1                       1   \n",
      "4420                             1                       1   \n",
      "4421                             1                       1   \n",
      "4422                             1                       1   \n",
      "4423                             1                       1   \n",
      "\n",
      "      Previous qualification (grade)  Nacionality  Mother's qualification  \\\n",
      "0                              122.0            1                      19   \n",
      "1                              160.0            1                       1   \n",
      "2                              122.0            1                      37   \n",
      "3                              122.0            1                      38   \n",
      "4                              100.0            1                      37   \n",
      "...                              ...          ...                     ...   \n",
      "4419                           125.0            1                       1   \n",
      "4420                           120.0          105                       1   \n",
      "4421                           154.0            1                      37   \n",
      "4422                           180.0            1                      37   \n",
      "4423                           152.0           22                      38   \n",
      "\n",
      "      Father's qualification  ...  Curricular units 2nd sem (enrolled)  \\\n",
      "0                         12  ...                                    0   \n",
      "1                          3  ...                                    6   \n",
      "2                         37  ...                                    6   \n",
      "3                         37  ...                                    6   \n",
      "4                         38  ...                                    6   \n",
      "...                      ...  ...                                  ...   \n",
      "4419                       1  ...                                    6   \n",
      "4420                       1  ...                                    6   \n",
      "4421                      37  ...                                    8   \n",
      "4422                      37  ...                                    5   \n",
      "4423                      37  ...                                    6   \n",
      "\n",
      "      Curricular units 2nd sem (evaluations)  \\\n",
      "0                                          0   \n",
      "1                                          6   \n",
      "2                                          0   \n",
      "3                                         10   \n",
      "4                                          6   \n",
      "...                                      ...   \n",
      "4419                                       8   \n",
      "4420                                       6   \n",
      "4421                                       9   \n",
      "4422                                       6   \n",
      "4423                                       6   \n",
      "\n",
      "      Curricular units 2nd sem (approved)  Curricular units 2nd sem (grade)  \\\n",
      "0                                       0                          0.000000   \n",
      "1                                       6                         13.666667   \n",
      "2                                       0                          0.000000   \n",
      "3                                       5                         12.400000   \n",
      "4                                       6                         13.000000   \n",
      "...                                   ...                               ...   \n",
      "4419                                    5                         12.666667   \n",
      "4420                                    2                         11.000000   \n",
      "4421                                    1                         13.500000   \n",
      "4422                                    5                         12.000000   \n",
      "4423                                    6                         13.000000   \n",
      "\n",
      "      Curricular units 2nd sem (without evaluations)  Unemployment rate  \\\n",
      "0                                                  0               10.8   \n",
      "1                                                  0               13.9   \n",
      "2                                                  0               10.8   \n",
      "3                                                  0                9.4   \n",
      "4                                                  0               13.9   \n",
      "...                                              ...                ...   \n",
      "4419                                               0               15.5   \n",
      "4420                                               0               11.1   \n",
      "4421                                               0               13.9   \n",
      "4422                                               0                9.4   \n",
      "4423                                               0               12.7   \n",
      "\n",
      "      Inflation rate   GDP    Target  enc_Course  \n",
      "0                1.4  1.74   Dropout           1  \n",
      "1               -0.3  0.79  Graduate          10  \n",
      "2                1.4  1.74   Dropout           4  \n",
      "3               -0.8 -3.12  Graduate          14  \n",
      "4               -0.3  0.79  Graduate           2  \n",
      "...              ...   ...       ...         ...  \n",
      "4419             2.8 -4.06  Graduate          14  \n",
      "4420             0.6  2.02   Dropout          14  \n",
      "4421            -0.3  0.79   Dropout          11  \n",
      "4422            -0.8 -3.12  Graduate           8  \n",
      "4423             3.7 -1.70  Graduate          14  \n",
      "\n",
      "[4424 rows x 38 columns]\n"
     ]
    }
   ],
   "source": [
    "print(df)"
   ]
  },
  {
   "cell_type": "code",
   "execution_count": 6,
   "id": "2bba9e9e",
   "metadata": {},
   "outputs": [],
   "source": [
    "#1. Extract independent variables from the dataset\n",
    "#2. Extract dependent variable from the dataset\n",
    "x=df.iloc[ : , : -1]\n",
    "y=df.loc[:,'Target']\n",
    "xtra,xtes,ytra,ytes = train_test_split(x,y,test_size=0.2,random_state=15)"
   ]
  },
  {
   "cell_type": "code",
   "execution_count": 12,
   "id": "2f162243",
   "metadata": {},
   "outputs": [],
   "source": [
    "#3. Perform Label encoding of the categorical data in the dataset.\n",
    "from sklearn.preprocessing import LabelEncoder\n",
    "#instance for encoding\n",
    "enc=LabelEncoder()\n",
    "df['enc_Course']=enc.fit_transform(df['Course'])"
   ]
  },
  {
   "cell_type": "code",
   "execution_count": 13,
   "id": "29f3a5a2",
   "metadata": {},
   "outputs": [
    {
     "name": "stdout",
     "output_type": "stream",
     "text": [
      "      Marital status  Application mode  Application order  Course  \\\n",
      "0                  1                17                  5     171   \n",
      "1                  1                15                  1    9254   \n",
      "2                  1                 1                  5    9070   \n",
      "3                  1                17                  2    9773   \n",
      "4                  2                39                  1    8014   \n",
      "...              ...               ...                ...     ...   \n",
      "4419               1                 1                  6    9773   \n",
      "4420               1                 1                  2    9773   \n",
      "4421               1                 1                  1    9500   \n",
      "4422               1                 1                  1    9147   \n",
      "4423               1                10                  1    9773   \n",
      "\n",
      "      Daytime/evening attendance\\t  Previous qualification  \\\n",
      "0                                1                       1   \n",
      "1                                1                       1   \n",
      "2                                1                       1   \n",
      "3                                1                       1   \n",
      "4                                0                       1   \n",
      "...                            ...                     ...   \n",
      "4419                             1                       1   \n",
      "4420                             1                       1   \n",
      "4421                             1                       1   \n",
      "4422                             1                       1   \n",
      "4423                             1                       1   \n",
      "\n",
      "      Previous qualification (grade)  Nacionality  Mother's qualification  \\\n",
      "0                              122.0            1                      19   \n",
      "1                              160.0            1                       1   \n",
      "2                              122.0            1                      37   \n",
      "3                              122.0            1                      38   \n",
      "4                              100.0            1                      37   \n",
      "...                              ...          ...                     ...   \n",
      "4419                           125.0            1                       1   \n",
      "4420                           120.0          105                       1   \n",
      "4421                           154.0            1                      37   \n",
      "4422                           180.0            1                      37   \n",
      "4423                           152.0           22                      38   \n",
      "\n",
      "      Father's qualification  ...  Curricular units 2nd sem (enrolled)  \\\n",
      "0                         12  ...                                    0   \n",
      "1                          3  ...                                    6   \n",
      "2                         37  ...                                    6   \n",
      "3                         37  ...                                    6   \n",
      "4                         38  ...                                    6   \n",
      "...                      ...  ...                                  ...   \n",
      "4419                       1  ...                                    6   \n",
      "4420                       1  ...                                    6   \n",
      "4421                      37  ...                                    8   \n",
      "4422                      37  ...                                    5   \n",
      "4423                      37  ...                                    6   \n",
      "\n",
      "      Curricular units 2nd sem (evaluations)  \\\n",
      "0                                          0   \n",
      "1                                          6   \n",
      "2                                          0   \n",
      "3                                         10   \n",
      "4                                          6   \n",
      "...                                      ...   \n",
      "4419                                       8   \n",
      "4420                                       6   \n",
      "4421                                       9   \n",
      "4422                                       6   \n",
      "4423                                       6   \n",
      "\n",
      "      Curricular units 2nd sem (approved)  Curricular units 2nd sem (grade)  \\\n",
      "0                                       0                          0.000000   \n",
      "1                                       6                         13.666667   \n",
      "2                                       0                          0.000000   \n",
      "3                                       5                         12.400000   \n",
      "4                                       6                         13.000000   \n",
      "...                                   ...                               ...   \n",
      "4419                                    5                         12.666667   \n",
      "4420                                    2                         11.000000   \n",
      "4421                                    1                         13.500000   \n",
      "4422                                    5                         12.000000   \n",
      "4423                                    6                         13.000000   \n",
      "\n",
      "      Curricular units 2nd sem (without evaluations)  Unemployment rate  \\\n",
      "0                                                  0               10.8   \n",
      "1                                                  0               13.9   \n",
      "2                                                  0               10.8   \n",
      "3                                                  0                9.4   \n",
      "4                                                  0               13.9   \n",
      "...                                              ...                ...   \n",
      "4419                                               0               15.5   \n",
      "4420                                               0               11.1   \n",
      "4421                                               0               13.9   \n",
      "4422                                               0                9.4   \n",
      "4423                                               0               12.7   \n",
      "\n",
      "      Inflation rate   GDP    Target  enc_Course  \n",
      "0                1.4  1.74   Dropout           1  \n",
      "1               -0.3  0.79  Graduate          10  \n",
      "2                1.4  1.74   Dropout           4  \n",
      "3               -0.8 -3.12  Graduate          14  \n",
      "4               -0.3  0.79  Graduate           2  \n",
      "...              ...   ...       ...         ...  \n",
      "4419             2.8 -4.06  Graduate          14  \n",
      "4420             0.6  2.02   Dropout          14  \n",
      "4421            -0.3  0.79   Dropout          11  \n",
      "4422            -0.8 -3.12  Graduate           8  \n",
      "4423             3.7 -1.70  Graduate          14  \n",
      "\n",
      "[4424 rows x 38 columns]\n"
     ]
    }
   ],
   "source": [
    "print(df)"
   ]
  },
  {
   "cell_type": "code",
   "execution_count": 18,
   "id": "4d6003a2",
   "metadata": {},
   "outputs": [
    {
     "name": "stdout",
     "output_type": "stream",
     "text": [
      "   cookies  price  qnty\n",
      "0        1    200    35\n",
      "1        2    430    47\n",
      "2        3    567    58\n",
      "3        4    132    69\n"
     ]
    }
   ],
   "source": [
    "data={'cookies':[1,2,3,4],'price':[200,430,567,132],'qnty':[35,47,58,69]}\n",
    "df=pd.DataFrame(data)\n",
    "print(df)"
   ]
  },
  {
   "cell_type": "code",
   "execution_count": 21,
   "id": "20a5d5c3",
   "metadata": {},
   "outputs": [
    {
     "name": "stdout",
     "output_type": "stream",
     "text": [
      "   cookies     price      qnty\n",
      "0        1  0.156322  0.000000\n",
      "1        2  0.685057  0.352941\n",
      "2        3  1.000000  0.676471\n",
      "3        4  0.000000  1.000000\n"
     ]
    }
   ],
   "source": [
    "df_scaled=df.copy()\n",
    "\n",
    "for column in df_scaled.columns[ 1:]:\n",
    "    df_scaled[column]=(df_scaled[column]-df_scaled[column].min())/(df_scaled[column].max()-df_scaled[column].min())\n",
    "    \n",
    "print(df_scaled)    "
   ]
  },
  {
   "cell_type": "code",
   "execution_count": 22,
   "id": "82a362f4",
   "metadata": {},
   "outputs": [
    {
     "data": {
      "text/plain": [
       "<Axes: >"
      ]
     },
     "execution_count": 22,
     "metadata": {},
     "output_type": "execute_result"
    },
    {
     "data": {
      "image/png": "[encoded data removed]",
      "text/plain": [
       "<Figure size 640x480 with 1 Axes>"
      ]
     },
     "metadata": {},
     "output_type": "display_data"
    }
   ],
   "source": [
    "df_scaled.plot(kind='bar')"
   ]
  },
  {
   "cell_type": "code",
   "execution_count": 25,
   "id": "5c82c22a",
   "metadata": {},
   "outputs": [
    {
     "name": "stdout",
     "output_type": "stream",
     "text": [
      "   cookies     price      qnty\n",
      "0        1 -0.655129 -1.182182\n",
      "1        2  0.484226 -0.359794\n",
      "2        3  1.162885  0.394061\n",
      "3        4 -0.991982  1.147916\n"
     ]
    }
   ],
   "source": [
    "df_zscale=df.copy()\n",
    "\n",
    "for column in df_zscale.columns[1:]:\n",
    "    df_zscale[column]=(df_zscale[column]-df_zscale[column].mean())/df_zscale[column].std()\n",
    "    \n",
    "print(df_zscale)    "
   ]
  },
  {
   "cell_type": "code",
   "execution_count": 27,
   "id": "e6c4c434",
   "metadata": {
    "scrolled": true
   },
   "outputs": [
    {
     "data": {
      "text/plain": [
       "<Axes: >"
      ]
     },
     "execution_count": 27,
     "metadata": {},
     "output_type": "execute_result"
    },
    {
     "data": {
      "image/png": "[encoded data removed]",
      "text/plain": [
       "<Figure size 640x480 with 1 Axes>"
      ]
     },
     "metadata": {},
     "output_type": "display_data"
    }
   ],
   "source": [
    "df_zscale.plot(kind='bar')"
   ]
  },
  {
   "cell_type": "code",
   "execution_count": 33,
   "id": "dd7d5cdc",
   "metadata": {
    "scrolled": true
   },
   "outputs": [
    {
     "name": "stdout",
     "output_type": "stream",
     "text": [
      "   cookies  price  qnty\n",
      "0        1  200.0  35.0\n",
      "1        2  567.0   NaN\n",
      "2        3    NaN  47.0\n",
      "3        4  132.0  69.0\n"
     ]
    }
   ],
   "source": [
    "datas={'cookies':[1,2,3,4],'price':[200,567,None,132],'qnty':[35,None,47,69]}\n",
    "dfs=pd.DataFrame(datas)\n",
    "print(dfs)"
   ]
  },
  {
   "cell_type": "code",
   "execution_count": 37,
   "id": "13e51a29",
   "metadata": {},
   "outputs": [
    {
     "name": "stdout",
     "output_type": "stream",
     "text": [
      "   cookies       price       qnty\n",
      "0        1  200.000000  35.000000\n",
      "1        2  567.000000  50.333333\n",
      "2        3  299.666667  47.000000\n",
      "3        4  132.000000  69.000000\n"
     ]
    }
   ],
   "source": [
    "import numpy as np\n",
    "\n",
    "dfs.fillna(dfs.mean(),inplace=True)\n",
    "print(dfs)"
   ]
  },
  {
   "cell_type": "code",
   "execution_count": null,
   "id": "eab7037e",
   "metadata": {},
   "outputs": [],
   "source": []
  }
 ],
 "metadata": {
  "kernelspec": {
   "display_name": "Python 3 (ipykernel)",
   "language": "python",
   "name": "python3"
  },
  "language_info": {
   "codemirror_mode": {
    "name": "ipython",
    "version": 3
   },
   "file_extension": ".py",
   "mimetype": "text/x-python",
   "name": "python",
   "nbconvert_exporter": "python",
   "pygments_lexer": "ipython3",
   "version": "3.10.9"
  }
 },
 "nbformat": 4,
 "nbformat_minor": 5
}
